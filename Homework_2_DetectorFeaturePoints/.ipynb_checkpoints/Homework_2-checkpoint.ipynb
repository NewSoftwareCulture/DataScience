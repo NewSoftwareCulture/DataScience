{
 "cells": [
  {
   "cell_type": "code",
   "execution_count": 64,
   "metadata": {},
   "outputs": [],
   "source": [
    "import cv2\n",
    "import numpy as np\n",
    "\n",
    "img = cv2.imread(\"test.jpg\")\n",
    "img_90 = cv2.imread(\"test1.jpg\")\n",
    "#np.rot90(img)\n",
    "\n",
    "MAX_FEATURES = 500\n",
    "\n",
    "orb = cv2.ORB_create(MAX_FEATURES)\n",
    "keypoints, descriptors = orb.detectAndCompute(img, None)\n",
    "keypoints_90, descriptors_90 = orb.detectAndCompute(img_90, None)"
   ]
  },
  {
   "cell_type": "code",
   "execution_count": 65,
   "metadata": {},
   "outputs": [
    {
     "data": {
      "text/plain": [
       "True"
      ]
     },
     "execution_count": 65,
     "metadata": {},
     "output_type": "execute_result"
    }
   ],
   "source": [
    "img2 = cv2.drawKeypoints(img, keypoints, None, color=(255, 255, 0))\n",
    "img3 = cv2.drawKeypoints(img_90, keypoints_90, None, color=(0, 255, 0))\n",
    "cv2.imwrite(\"img2.jpg\", img2)\n",
    "cv2.imwrite(\"img3.jpg\", img3)"
   ]
  },
  {
   "cell_type": "code",
   "execution_count": 66,
   "metadata": {},
   "outputs": [],
   "source": [
    "matcher = cv2.DescriptorMatcher_create(cv2.DESCRIPTOR_MATCHER_BRUTEFORCE_HAMMING)\n",
    "\n",
    "matches = matcher.match(descriptors, descriptors_90, None)\n",
    "\n",
    "imMatches = cv2.drawMatches(img, keypoints, img_90, keypoints_90, matches, None)"
   ]
  },
  {
   "cell_type": "code",
   "execution_count": 67,
   "metadata": {},
   "outputs": [
    {
     "data": {
      "text/plain": [
       "True"
      ]
     },
     "execution_count": 67,
     "metadata": {},
     "output_type": "execute_result"
    }
   ],
   "source": [
    "cv2.imwrite(\"result.jpg\", imMatches)"
   ]
  },
  {
   "cell_type": "code",
   "execution_count": null,
   "metadata": {},
   "outputs": [],
   "source": []
  }
 ],
 "metadata": {
  "kernelspec": {
   "display_name": "Python 3",
   "language": "python",
   "name": "python3"
  },
  "language_info": {
   "codemirror_mode": {
    "name": "ipython",
    "version": 3
   },
   "file_extension": ".py",
   "mimetype": "text/x-python",
   "name": "python",
   "nbconvert_exporter": "python",
   "pygments_lexer": "ipython3",
   "version": "3.6.9"
  }
 },
 "nbformat": 4,
 "nbformat_minor": 4
}
