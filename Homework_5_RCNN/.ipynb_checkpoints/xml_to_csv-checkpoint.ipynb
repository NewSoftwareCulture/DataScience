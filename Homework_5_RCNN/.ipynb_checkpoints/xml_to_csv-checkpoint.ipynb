{
 "cells": [
  {
   "cell_type": "code",
   "execution_count": 11,
   "metadata": {},
   "outputs": [],
   "source": [
    "import xmltodict\n",
    "import pandas as pd\n",
    "\n",
    "train = {\n",
    "    'type': 'train',\n",
    "    'number': 1,\n",
    "    'max_number': 76\n",
    "}\n",
    "test = {\n",
    "    'type': 'test',\n",
    "    'number': 76,\n",
    "    'max_number': 102\n",
    "}\n",
    "all_ = {\n",
    "    'type': 'all',\n",
    "    'number': 1,\n",
    "    'max_number': 102\n",
    "}\n",
    "\n",
    "\n",
    "def xml_to_csv(xml, filename):\n",
    "    obj = xml['annotation']['object']\n",
    "    name = obj['name']\n",
    "    xmin = obj['bndbox']['xmin']\n",
    "    ymin = obj['bndbox']['ymin']\n",
    "    xmax = obj['bndbox']['xmax']\n",
    "    ymax = obj['bndbox']['ymax']\n",
    "    size = xml['annotation']['size']\n",
    "    width = size['width']\n",
    "    height = size['height']\n",
    "    csv = [name, filename[:-4], height, width, xmax, xmin, ymax, ymin]\n",
    "    return csv\n",
    "\n",
    "def parse(model, result, mode):\n",
    "    number = mode['number']\n",
    "    max_number = mode['max_number']\n",
    "    for i in range(number, max_number):\n",
    "        filename = model + str(i) + '.xml'\n",
    "        fin = open('annotations/xmls/' + filename, 'r', encoding='utf8')\n",
    "        xml = fin.read()\n",
    "        fin.close()\n",
    "        parsedxml = xmltodict.parse(xml)\n",
    "        result.append(xml_to_csv(parsedxml, filename))\n",
    "    return result[:-1]\n",
    "\n",
    "def run(mode):\n",
    "    model_1 = 'BB-8_'\n",
    "    model_2 = 'R2-D2_'\n",
    "    result = []\n",
    "    parse(model_1, result, mode)\n",
    "    parse(model_2, result, mode)\n",
    "    frame = pd.DataFrame(result) # собираем фрейм\n",
    "    frame.to_csv('data/' + mode['type']+ '.CSV',index=False) #экспортируем в файл"
   ]
  },
  {
   "cell_type": "code",
   "execution_count": 15,
   "metadata": {},
   "outputs": [],
   "source": [
    "run(test)\n",
    "run(train)"
   ]
  },
  {
   "cell_type": "code",
   "execution_count": 12,
   "metadata": {},
   "outputs": [],
   "source": [
    "run(all_)"
   ]
  },
  {
   "cell_type": "code",
   "execution_count": null,
   "metadata": {},
   "outputs": [],
   "source": []
  }
 ],
 "metadata": {
  "kernelspec": {
   "display_name": "Python 3",
   "language": "python",
   "name": "python3"
  },
  "language_info": {
   "codemirror_mode": {
    "name": "ipython",
    "version": 3
   },
   "file_extension": ".py",
   "mimetype": "text/x-python",
   "name": "python",
   "nbconvert_exporter": "python",
   "pygments_lexer": "ipython3",
   "version": "3.6.9"
  }
 },
 "nbformat": 4,
 "nbformat_minor": 4
}
