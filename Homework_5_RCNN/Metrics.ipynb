{
 "cells": [
  {
   "cell_type": "code",
   "execution_count": 21,
   "metadata": {},
   "outputs": [],
   "source": [
    "import keras\n",
    "from keras.preprocessing.image import ImageDataGenerator\n",
    "from keras.models import Sequential\n",
    "import pandas as pd\n",
    "import cv2\n",
    "import numpy as np\n",
    "from matplotlib import pyplot as plt\n",
    "from sklearn.metrics import confusion_matrix\n",
    "import itertools\n",
    "from keras.layers import Dense, Dropout, Activation, Flatten, Input\n",
    "from keras.layers import Conv2D, MaxPooling2D, AveragePooling2D\n",
    "from keras.layers import BatchNormalization\n",
    "from keras.regularizers import l2\n",
    "from keras.models import Model\n",
    "from keras.optimizers import Adam\n",
    "from keras.callbacks import LearningRateScheduler\n",
    "from keras import backend as K"
   ]
  },
  {
   "cell_type": "code",
   "execution_count": 22,
   "metadata": {},
   "outputs": [],
   "source": [
    "data_path = 'data/'\n",
    "images = 'images/'"
   ]
  },
  {
   "cell_type": "code",
   "execution_count": 23,
   "metadata": {},
   "outputs": [],
   "source": [
    "droids_df = pd.read_pickle(f'{data_path}droids_df.pkl')"
   ]
  },
  {
   "cell_type": "code",
   "execution_count": 24,
   "metadata": {},
   "outputs": [],
   "source": [
    "num_classes = 2\n",
    "SHAPE_WIDTH = 80\n",
    "SHAPE_HEIGHT = 120"
   ]
  },
  {
   "cell_type": "code",
   "execution_count": 25,
   "metadata": {},
   "outputs": [],
   "source": [
    "def resize_pack(pack):\n",
    "    fx_ratio = SHAPE_WIDTH / pack.shape[1]\n",
    "    fy_ratio = SHAPE_HEIGHT / pack.shape[0]    \n",
    "    pack = cv2.resize(pack, (0, 0), fx=fx_ratio, fy=fy_ratio)\n",
    "    return pack[0:SHAPE_HEIGHT, 0:SHAPE_WIDTH]"
   ]
  },
  {
   "cell_type": "code",
   "execution_count": 26,
   "metadata": {},
   "outputs": [],
   "source": [
    "x, y, f = [], [], []\n",
    "for fileName, is_train in droids_df[['fileName', 'is_train']].values:\n",
    "    droids_rects = droids_df.loc[droids_df['fileName'] == fileName]\n",
    "    rects_data = droids_rects[['category', 'xmin', 'ymin', 'xmax', 'ymax']]\n",
    "    im = cv2.imread(f'{images}{fileName}.jpg')\n",
    "    im = cv2.cvtColor(im, cv2.COLOR_BGR2RGB)\n",
    "    for category, xmin, ymin, xmax, ymax in rects_data.values:\n",
    "        if category == 0:\n",
    "            continue\n",
    "        pack = resize_pack(np.array(im[ymin:ymax, xmin:xmax]))\n",
    "        x.append(pack)\n",
    "        f.append(is_train)\n",
    "        y.append(int(category) - 1)"
   ]
  },
  {
   "cell_type": "code",
   "execution_count": 27,
   "metadata": {},
   "outputs": [],
   "source": [
    "model = keras.models.load_model('my_model/model.h5', compile=False)"
   ]
  },
  {
   "cell_type": "code",
   "execution_count": 28,
   "metadata": {},
   "outputs": [],
   "source": [
    "# let's split the data to train/validation sets based on our is_train flag\n",
    "x = np.array(x)\n",
    "y = np.array(y)\n",
    "f = np.array(f)\n",
    "x_train, x_test, y_train, y_test = x[f], x[~f], y[f], y[~f]\n",
    "# save test images\n",
    "x_test_images = x_test"
   ]
  },
  {
   "cell_type": "code",
   "execution_count": 29,
   "metadata": {},
   "outputs": [],
   "source": [
    "y_train = keras.utils.to_categorical(y_train, num_classes)\n",
    "y_test = keras.utils.to_categorical(y_test, num_classes)"
   ]
  },
  {
   "cell_type": "code",
   "execution_count": 30,
   "metadata": {},
   "outputs": [],
   "source": [
    "x_train = x_train.astype('float32')\n",
    "x_test = x_test.astype('float32')\n",
    "x_train /= 255\n",
    "x_test /= 255"
   ]
  },
  {
   "cell_type": "code",
   "execution_count": 31,
   "metadata": {},
   "outputs": [],
   "source": [
    "def plot_confusion_matrix(cm, classes, normalize=False, \n",
    "                          title='Confusion matrix', cmap=plt.cm.Blues):\n",
    "    if normalize:\n",
    "        cm = cm.astype('float') / cm.sum(axis=1)[:, np.newaxis]\n",
    "    plt.imshow(cm, interpolation='nearest', cmap=cmap)\n",
    "    plt.title(title)\n",
    "    plt.colorbar()\n",
    "    tick_marks = np.arange(len(classes))\n",
    "    plt.xticks(tick_marks, classes, rotation=45)\n",
    "    plt.yticks(tick_marks, classes)\n",
    "\n",
    "    fmt = '.2f' if normalize else 'd'\n",
    "    thresh = cm.max() / 2.\n",
    "    for i, j in itertools.product(range(cm.shape[0]), range(cm.shape[1])):\n",
    "        plt.text(j, i, format(cm[i, j], fmt),\n",
    "                 horizontalalignment=\"center\",\n",
    "                 color=\"white\" if cm[i, j] > thresh else \"black\")\n",
    "\n",
    "    plt.tight_layout()\n",
    "    plt.ylabel('True label')\n",
    "    plt.xlabel('Predicted label')"
   ]
  },
  {
   "cell_type": "code",
   "execution_count": 32,
   "metadata": {},
   "outputs": [],
   "source": [
    "# let's draw confusion matrix to check classes recognition performance\n",
    "y_validation_cls = np.argmax(y_test, axis=1)\n",
    "y_validation_predict = model.predict(x_test)\n",
    "y_validation_predict_cls = np.argmax(y_validation_predict, axis=1)"
   ]
  },
  {
   "cell_type": "code",
   "execution_count": 34,
   "metadata": {},
   "outputs": [
    {
     "name": "stdout",
     "output_type": "stream",
     "text": [
      "Accuracy:\t 0.78049\n",
      "Recall:\t\t 0.66667 \t 0.9\n",
      "Precision:\t 0.875 \t\t 0.72\n",
      "F1:\t\t 0.75676 \t 0.8\n"
     ]
    },
    {
     "data": {
      "image/png": "[encoded data removed]",
      "text/plain": [
       "<Figure size 432x432 with 2 Axes>"
      ]
     },
     "metadata": {
      "needs_background": "light"
     },
     "output_type": "display_data"
    }
   ],
   "source": [
    "fig = plt.gcf()\n",
    "fig.set_size_inches(6, 6)\n",
    "cnf_matrix = confusion_matrix(y_validation_cls, y_validation_predict_cls)\n",
    "plot_confusion_matrix(cnf_matrix, [f'C{i+1}' for i in range(num_classes)], \n",
    "                      title='Confusion matrix', normalize=False)\n",
    "\n",
    "from sklearn.metrics import classification_report, accuracy_score, recall_score, precision_score, f1_score\n",
    "\n",
    "predicted = model.predict(x_test)\n",
    "for i in range(len(predicted)):\n",
    "    predicted[i] = np.around(predicted[i])\n",
    "    \n",
    "recall = recall_score(y_test, predicted, average=None)\n",
    "precision = precision_score(y_test, predicted, average=None)\n",
    "accuracy = accuracy_score(y_test, predicted)\n",
    "f1 = f1_score(y_test, predicted,  average=None)\n",
    "\n",
    "print(\"Accuracy:\\t\", round(accuracy, 5))\n",
    "print(\"Recall:\\t\\t\", round(recall[0] ,5 ), '\\t', round(recall[1] ,5 ))\n",
    "print(\"Precision:\\t\", round(precision[0] ,5 ), '\\t\\t', round(precision[1] ,5 ))\n",
    "print(\"F1:\\t\\t\", round(f1[0] ,5 ), '\\t', round(f1[1] ,5 ))"
   ]
  },
  {
   "cell_type": "code",
   "execution_count": null,
   "metadata": {},
   "outputs": [],
   "source": []
  }
 ],
 "metadata": {
  "kernelspec": {
   "display_name": "Python 3",
   "language": "python",
   "name": "python3"
  },
  "language_info": {
   "codemirror_mode": {
    "name": "ipython",
    "version": 3
   },
   "file_extension": ".py",
   "mimetype": "text/x-python",
   "name": "python",
   "nbconvert_exporter": "python",
   "pygments_lexer": "ipython3",
   "version": "3.6.9"
  }
 },
 "nbformat": 4,
 "nbformat_minor": 4
}
