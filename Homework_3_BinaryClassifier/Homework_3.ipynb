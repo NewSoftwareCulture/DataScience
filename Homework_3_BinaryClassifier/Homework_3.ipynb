{
 "cells": [
  {
   "cell_type": "code",
   "execution_count": 1,
   "metadata": {},
   "outputs": [
    {
     "name": "stdout",
     "output_type": "stream",
     "text": [
      "Кабанов в тестовом наборе данных:  115\n",
      "Сурикатов в тестовом наборе данных:  88\n",
      "Кабанов в валидационном наборе данных:  30\n",
      "Сурикатов в валидационном наборе данных:  30\n",
      "Животных в тестовом наборе данных:  203\n",
      "Животных в валидационном наборе данных:  60\n"
     ]
    }
   ],
   "source": [
    "import tensorflow as tf\n",
    "from tensorflow import keras\n",
    "import numpy as np\n",
    "import matplotlib.pyplot as plt\n",
    "from tensorflow.keras.preprocessing.image import ImageDataGenerator\n",
    "import os\n",
    "\n",
    "base_dir = 'Datasets'\n",
    "train_dir = 'Datasets/train'\n",
    "validation_dir = 'Datasets/test'\n",
    "\n",
    "train_pumba_dir = 'Datasets/train/pumba'\n",
    "train_surik_dir = 'Datasets/train/surik'\n",
    "validation_pumba_dir = 'Datasets/test/pumba'\n",
    "validation_surik_dir = 'Datasets/test/surik'\n",
    "\n",
    "pumba_tr = len(os.listdir(train_pumba_dir))\n",
    "surik_tr = len(os.listdir(train_surik_dir))\n",
    "\n",
    "pumba_validation = len(os.listdir(validation_pumba_dir))\n",
    "surik_validation = len(os.listdir(validation_surik_dir))\n",
    "\n",
    "total_validation = pumba_validation + surik_validation\n",
    "total_train = pumba_tr + surik_tr\n",
    "\n",
    "print('Кабанов в тестовом наборе данных: ', pumba_tr)\n",
    "print('Сурикатов в тестовом наборе данных: ', surik_tr)\n",
    "\n",
    "print('Кабанов в валидационном наборе данных: ', pumba_validation)\n",
    "print('Сурикатов в валидационном наборе данных: ', surik_validation)\n",
    "\n",
    "print('Животных в тестовом наборе данных: ', total_train)\n",
    "print('Животных в валидационном наборе данных: ', total_validation)\n",
    "\n",
    "BATCH_SIZE = 203 # количество тренировочных изображений для обработки перед обновлением параметров модели\n",
    "IMG_SHAPE = 80 # размерность 80x80 к которой будет преведено входное изображение\n",
    "train_image_generator = ImageDataGenerator(rescale=1./255)\n",
    "validation_image_generator = ImageDataGenerator(rescale=1./255)"
   ]
  },
  {
   "cell_type": "code",
   "execution_count": 2,
   "metadata": {},
   "outputs": [
    {
     "name": "stdout",
     "output_type": "stream",
     "text": [
      "Found 202 images belonging to 2 classes.\n"
     ]
    }
   ],
   "source": [
    "train_data_gen = train_image_generator.flow_from_directory(batch_size=total_train,\n",
    "                                                          directory=train_dir,\n",
    "                                                          shuffle=True,\n",
    "                                                          target_size=(IMG_SHAPE,IMG_SHAPE),\n",
    "                                                          class_mode=\"binary\")"
   ]
  },
  {
   "cell_type": "code",
   "execution_count": 3,
   "metadata": {},
   "outputs": [
    {
     "data": {
      "text/plain": [
       "{'pumba': 0, 'surik': 1}"
      ]
     },
     "execution_count": 3,
     "metadata": {},
     "output_type": "execute_result"
    }
   ],
   "source": [
    "train_data_gen.class_indices"
   ]
  },
  {
   "cell_type": "code",
   "execution_count": 4,
   "metadata": {},
   "outputs": [
    {
     "name": "stdout",
     "output_type": "stream",
     "text": [
      "Found 60 images belonging to 2 classes.\n"
     ]
    }
   ],
   "source": [
    "validation_data_gen = validation_image_generator.flow_from_directory(batch_size=total_validation,\n",
    "                                                              directory=validation_dir,\n",
    "                                                              shuffle=False,\n",
    "                                                              target_size=(IMG_SHAPE,IMG_SHAPE),\n",
    "                                                              class_mode=\"binary\")"
   ]
  },
  {
   "cell_type": "code",
   "execution_count": 5,
   "metadata": {},
   "outputs": [
    {
     "data": {
      "text/plain": [
       "{'pumba': 0, 'surik': 1}"
      ]
     },
     "execution_count": 5,
     "metadata": {},
     "output_type": "execute_result"
    }
   ],
   "source": [
    "validation_data_gen.class_indices"
   ]
  },
  {
   "cell_type": "code",
   "execution_count": 6,
   "metadata": {},
   "outputs": [
    {
     "name": "stdout",
     "output_type": "stream",
     "text": [
      "Model: \"sequential\"\n",
      "_________________________________________________________________\n",
      "Layer (type)                 Output Shape              Param #   \n",
      "=================================================================\n",
      "conv2d (Conv2D)              (None, 78, 78, 32)        896       \n",
      "_________________________________________________________________\n",
      "max_pooling2d (MaxPooling2D) (None, 39, 39, 32)        0         \n",
      "_________________________________________________________________\n",
      "conv2d_1 (Conv2D)            (None, 37, 37, 64)        18496     \n",
      "_________________________________________________________________\n",
      "max_pooling2d_1 (MaxPooling2 (None, 18, 18, 64)        0         \n",
      "_________________________________________________________________\n",
      "conv2d_2 (Conv2D)            (None, 16, 16, 128)       73856     \n",
      "_________________________________________________________________\n",
      "max_pooling2d_2 (MaxPooling2 (None, 8, 8, 128)         0         \n",
      "_________________________________________________________________\n",
      "conv2d_3 (Conv2D)            (None, 6, 6, 128)         147584    \n",
      "_________________________________________________________________\n",
      "max_pooling2d_3 (MaxPooling2 (None, 3, 3, 128)         0         \n",
      "_________________________________________________________________\n",
      "dropout (Dropout)            (None, 3, 3, 128)         0         \n",
      "_________________________________________________________________\n",
      "flatten (Flatten)            (None, 1152)              0         \n",
      "_________________________________________________________________\n",
      "dense (Dense)                (None, 512)               590336    \n",
      "_________________________________________________________________\n",
      "dense_1 (Dense)              (None, 2)                 1026      \n",
      "=================================================================\n",
      "Total params: 832,194\n",
      "Trainable params: 832,194\n",
      "Non-trainable params: 0\n",
      "_________________________________________________________________\n"
     ]
    }
   ],
   "source": [
    "model = tf.keras.models.Sequential([\n",
    "    tf.keras.layers.Conv2D(32, (3,3), activation='relu', input_shape=(IMG_SHAPE, IMG_SHAPE, 3)),\n",
    "    tf.keras.layers.MaxPooling2D(2, 2),\n",
    "\n",
    "    tf.keras.layers.Conv2D(64, (3, 3), activation='relu'),\n",
    "    tf.keras.layers.MaxPooling2D(2, 2),\n",
    "\n",
    "    tf.keras.layers.Conv2D(128, (3, 3), activation='relu'),\n",
    "    tf.keras.layers.MaxPooling2D(2, 2),\n",
    "\n",
    "    tf.keras.layers.Conv2D(128, (3, 3), activation='relu'),\n",
    "    tf.keras.layers.MaxPooling2D(2, 2),\n",
    "\n",
    "    tf.keras.layers.Dropout(0.5),\n",
    "    tf.keras.layers.Flatten(),\n",
    "    tf.keras.layers.Dense(512, activation='relu'),\n",
    "    tf.keras.layers.Dense(2, activation='softmax')\n",
    "])\n",
    "\n",
    "model.compile(optimizer='adam',\n",
    "              loss='sparse_categorical_crossentropy',\n",
    "              metrics=['accuracy'])\n",
    "\n",
    "model.summary()"
   ]
  },
  {
   "cell_type": "code",
   "execution_count": 7,
   "metadata": {
    "scrolled": true
   },
   "outputs": [
    {
     "name": "stdout",
     "output_type": "stream",
     "text": [
      "WARNING:tensorflow:sample_weight modes were coerced from\n",
      "  ...\n",
      "    to  \n",
      "  ['...']\n",
      "WARNING:tensorflow:sample_weight modes were coerced from\n",
      "  ...\n",
      "    to  \n",
      "  ['...']\n",
      "Train for 1 steps, validate for 1 steps\n",
      "Epoch 1/100\n",
      "1/1 [==============================] - 2s 2s/step - loss: 0.6848 - accuracy: 0.6040 - val_loss: 0.8595 - val_accuracy: 0.5000\n",
      "Epoch 2/100\n",
      "1/1 [==============================] - 2s 2s/step - loss: 0.7766 - accuracy: 0.5693 - val_loss: 0.6870 - val_accuracy: 0.5333\n",
      "Epoch 3/100\n",
      "1/1 [==============================] - 1s 1s/step - loss: 0.6899 - accuracy: 0.5644 - val_loss: 0.6882 - val_accuracy: 0.5000\n",
      "Epoch 4/100\n",
      "1/1 [==============================] - 1s 1s/step - loss: 0.7020 - accuracy: 0.4307 - val_loss: 0.6856 - val_accuracy: 0.5167\n",
      "Epoch 5/100\n",
      "1/1 [==============================] - 1s 1s/step - loss: 0.6874 - accuracy: 0.5446 - val_loss: 0.6879 - val_accuracy: 0.5000\n",
      "Epoch 6/100\n",
      "1/1 [==============================] - 1s 1s/step - loss: 0.6800 - accuracy: 0.5594 - val_loss: 0.6960 - val_accuracy: 0.5000\n",
      "Epoch 7/100\n",
      "1/1 [==============================] - 1s 1s/step - loss: 0.6771 - accuracy: 0.5693 - val_loss: 0.7029 - val_accuracy: 0.5000\n",
      "Epoch 8/100\n",
      "1/1 [==============================] - 1s 1s/step - loss: 0.6728 - accuracy: 0.5693 - val_loss: 0.6984 - val_accuracy: 0.5000\n",
      "Epoch 9/100\n",
      "1/1 [==============================] - 1s 1s/step - loss: 0.6668 - accuracy: 0.5693 - val_loss: 0.6834 - val_accuracy: 0.5000\n",
      "Epoch 10/100\n",
      "1/1 [==============================] - 1s 1s/step - loss: 0.6525 - accuracy: 0.5743 - val_loss: 0.6653 - val_accuracy: 0.5333\n",
      "Epoch 11/100\n",
      "1/1 [==============================] - 1s 1s/step - loss: 0.6394 - accuracy: 0.6881 - val_loss: 0.6483 - val_accuracy: 0.6167\n",
      "Epoch 12/100\n",
      "1/1 [==============================] - 1s 1s/step - loss: 0.6168 - accuracy: 0.6683 - val_loss: 0.6320 - val_accuracy: 0.6167\n",
      "Epoch 13/100\n",
      "1/1 [==============================] - 1s 1s/step - loss: 0.5934 - accuracy: 0.6931 - val_loss: 0.5871 - val_accuracy: 0.7833\n",
      "Epoch 14/100\n",
      "1/1 [==============================] - 1s 1s/step - loss: 0.5571 - accuracy: 0.7525 - val_loss: 0.5560 - val_accuracy: 0.7667\n",
      "Epoch 15/100\n",
      "1/1 [==============================] - 1s 1s/step - loss: 0.5028 - accuracy: 0.7574 - val_loss: 0.5254 - val_accuracy: 0.7500\n",
      "Epoch 16/100\n",
      "1/1 [==============================] - 1s 1s/step - loss: 0.4759 - accuracy: 0.7822 - val_loss: 0.5666 - val_accuracy: 0.7167\n",
      "Epoch 17/100\n",
      "1/1 [==============================] - 1s 1s/step - loss: 0.4897 - accuracy: 0.7426 - val_loss: 0.7996 - val_accuracy: 0.5833\n",
      "Epoch 18/100\n",
      "1/1 [==============================] - 1s 1s/step - loss: 0.7533 - accuracy: 0.6337 - val_loss: 0.6503 - val_accuracy: 0.7167\n",
      "Epoch 19/100\n",
      "1/1 [==============================] - 1s 1s/step - loss: 0.5020 - accuracy: 0.7970 - val_loss: 0.7684 - val_accuracy: 0.6667\n",
      "Epoch 20/100\n",
      "1/1 [==============================] - 2s 2s/step - loss: 0.6027 - accuracy: 0.7475 - val_loss: 0.4886 - val_accuracy: 0.7667\n",
      "Epoch 21/100\n",
      "1/1 [==============================] - 2s 2s/step - loss: 0.4263 - accuracy: 0.8218 - val_loss: 0.4910 - val_accuracy: 0.7667\n",
      "Epoch 22/100\n",
      "1/1 [==============================] - 1s 1s/step - loss: 0.4879 - accuracy: 0.7525 - val_loss: 0.5114 - val_accuracy: 0.7333\n",
      "Epoch 23/100\n",
      "1/1 [==============================] - 2s 2s/step - loss: 0.4830 - accuracy: 0.7525 - val_loss: 0.4813 - val_accuracy: 0.7667\n",
      "Epoch 24/100\n",
      "1/1 [==============================] - 2s 2s/step - loss: 0.4577 - accuracy: 0.7871 - val_loss: 0.4485 - val_accuracy: 0.7500\n",
      "Epoch 25/100\n",
      "1/1 [==============================] - 2s 2s/step - loss: 0.4357 - accuracy: 0.8069 - val_loss: 0.4424 - val_accuracy: 0.8000\n",
      "Epoch 26/100\n",
      "1/1 [==============================] - 1s 1s/step - loss: 0.4401 - accuracy: 0.8267 - val_loss: 0.4603 - val_accuracy: 0.7667\n",
      "Epoch 27/100\n",
      "1/1 [==============================] - 2s 2s/step - loss: 0.4156 - accuracy: 0.7921 - val_loss: 0.4739 - val_accuracy: 0.7833\n",
      "Epoch 28/100\n",
      "1/1 [==============================] - 1s 1s/step - loss: 0.4232 - accuracy: 0.7723 - val_loss: 0.4500 - val_accuracy: 0.8000\n",
      "Epoch 29/100\n",
      "1/1 [==============================] - 1s 1s/step - loss: 0.4115 - accuracy: 0.8069 - val_loss: 0.4089 - val_accuracy: 0.8333\n",
      "Epoch 30/100\n",
      "1/1 [==============================] - 1s 1s/step - loss: 0.4296 - accuracy: 0.7871 - val_loss: 0.3816 - val_accuracy: 0.8167\n",
      "Epoch 31/100\n",
      "1/1 [==============================] - 1s 1s/step - loss: 0.3902 - accuracy: 0.8119 - val_loss: 0.3735 - val_accuracy: 0.8167\n",
      "Epoch 32/100\n",
      "1/1 [==============================] - 1s 1s/step - loss: 0.3996 - accuracy: 0.8267 - val_loss: 0.3716 - val_accuracy: 0.8333\n",
      "Epoch 33/100\n",
      "1/1 [==============================] - 1s 1s/step - loss: 0.3892 - accuracy: 0.8416 - val_loss: 0.3698 - val_accuracy: 0.8167\n",
      "Epoch 34/100\n",
      "1/1 [==============================] - 2s 2s/step - loss: 0.3483 - accuracy: 0.8911 - val_loss: 0.3785 - val_accuracy: 0.8333\n",
      "Epoch 35/100\n",
      "1/1 [==============================] - 1s 1s/step - loss: 0.3445 - accuracy: 0.8564 - val_loss: 0.4017 - val_accuracy: 0.8167\n",
      "Epoch 36/100\n",
      "1/1 [==============================] - 1s 1s/step - loss: 0.3342 - accuracy: 0.8416 - val_loss: 0.4137 - val_accuracy: 0.8333\n",
      "Epoch 37/100\n",
      "1/1 [==============================] - 1s 1s/step - loss: 0.2983 - accuracy: 0.8960 - val_loss: 0.4115 - val_accuracy: 0.8167\n",
      "Epoch 38/100\n",
      "1/1 [==============================] - 1s 1s/step - loss: 0.3233 - accuracy: 0.8762 - val_loss: 0.3940 - val_accuracy: 0.8333\n",
      "Epoch 39/100\n",
      "1/1 [==============================] - 1s 1s/step - loss: 0.3085 - accuracy: 0.8812 - val_loss: 0.3951 - val_accuracy: 0.8167\n",
      "Epoch 40/100\n",
      "1/1 [==============================] - 1s 1s/step - loss: 0.2875 - accuracy: 0.8911 - val_loss: 0.4099 - val_accuracy: 0.8000\n",
      "Epoch 41/100\n",
      "1/1 [==============================] - 2s 2s/step - loss: 0.2789 - accuracy: 0.8812 - val_loss: 0.4064 - val_accuracy: 0.8000\n",
      "Epoch 42/100\n",
      "1/1 [==============================] - 1s 1s/step - loss: 0.2668 - accuracy: 0.8960 - val_loss: 0.4166 - val_accuracy: 0.8167\n",
      "Epoch 43/100\n",
      "1/1 [==============================] - 1s 1s/step - loss: 0.2427 - accuracy: 0.9059 - val_loss: 0.4261 - val_accuracy: 0.8167\n",
      "Epoch 44/100\n",
      "1/1 [==============================] - 2s 2s/step - loss: 0.2476 - accuracy: 0.9010 - val_loss: 0.4275 - val_accuracy: 0.8333\n",
      "Epoch 45/100\n",
      "1/1 [==============================] - 2s 2s/step - loss: 0.2341 - accuracy: 0.8960 - val_loss: 0.3818 - val_accuracy: 0.8167\n",
      "Epoch 46/100\n",
      "1/1 [==============================] - 1s 1s/step - loss: 0.2374 - accuracy: 0.8911 - val_loss: 0.3548 - val_accuracy: 0.8500\n",
      "Epoch 47/100\n",
      "1/1 [==============================] - 2s 2s/step - loss: 0.2137 - accuracy: 0.9109 - val_loss: 0.3660 - val_accuracy: 0.8167\n",
      "Epoch 48/100\n",
      "1/1 [==============================] - 2s 2s/step - loss: 0.1899 - accuracy: 0.9257 - val_loss: 0.4046 - val_accuracy: 0.8333\n",
      "Epoch 49/100\n",
      "1/1 [==============================] - 1s 1s/step - loss: 0.1958 - accuracy: 0.9158 - val_loss: 0.3708 - val_accuracy: 0.8167\n",
      "Epoch 50/100\n",
      "1/1 [==============================] - 1s 1s/step - loss: 0.1746 - accuracy: 0.9307 - val_loss: 0.3294 - val_accuracy: 0.8500\n",
      "Epoch 51/100\n",
      "1/1 [==============================] - 1s 1s/step - loss: 0.1795 - accuracy: 0.9257 - val_loss: 0.3416 - val_accuracy: 0.8500\n",
      "Epoch 52/100\n",
      "1/1 [==============================] - 1s 1s/step - loss: 0.1600 - accuracy: 0.9406 - val_loss: 0.3872 - val_accuracy: 0.8167\n",
      "Epoch 53/100\n",
      "1/1 [==============================] - 1s 1s/step - loss: 0.1400 - accuracy: 0.9703 - val_loss: 0.3750 - val_accuracy: 0.8167\n",
      "Epoch 54/100\n",
      "1/1 [==============================] - 2s 2s/step - loss: 0.1190 - accuracy: 0.9653 - val_loss: 0.3541 - val_accuracy: 0.8500\n",
      "Epoch 55/100\n",
      "1/1 [==============================] - 2s 2s/step - loss: 0.1205 - accuracy: 0.9356 - val_loss: 0.4021 - val_accuracy: 0.8333\n",
      "Epoch 56/100\n",
      "1/1 [==============================] - 2s 2s/step - loss: 0.1197 - accuracy: 0.9604 - val_loss: 0.4780 - val_accuracy: 0.8000\n",
      "Epoch 57/100\n",
      "1/1 [==============================] - 1s 1s/step - loss: 0.1345 - accuracy: 0.9455 - val_loss: 0.4109 - val_accuracy: 0.8500\n",
      "Epoch 58/100\n",
      "1/1 [==============================] - 2s 2s/step - loss: 0.1027 - accuracy: 0.9505 - val_loss: 0.3632 - val_accuracy: 0.8500\n"
     ]
    },
    {
     "name": "stdout",
     "output_type": "stream",
     "text": [
      "Epoch 59/100\n",
      "1/1 [==============================] - 2s 2s/step - loss: 0.1085 - accuracy: 0.9505 - val_loss: 0.4753 - val_accuracy: 0.8000\n",
      "Epoch 60/100\n",
      "1/1 [==============================] - 3s 3s/step - loss: 0.0917 - accuracy: 0.9653 - val_loss: 0.4437 - val_accuracy: 0.8167\n",
      "Epoch 61/100\n",
      "1/1 [==============================] - 2s 2s/step - loss: 0.0705 - accuracy: 0.9802 - val_loss: 0.4238 - val_accuracy: 0.8333\n",
      "Epoch 62/100\n",
      "1/1 [==============================] - 2s 2s/step - loss: 0.0653 - accuracy: 0.9851 - val_loss: 0.3789 - val_accuracy: 0.8500\n",
      "Epoch 63/100\n",
      "1/1 [==============================] - 3s 3s/step - loss: 0.0859 - accuracy: 0.9653 - val_loss: 0.4646 - val_accuracy: 0.8167\n",
      "Epoch 64/100\n",
      "1/1 [==============================] - 3s 3s/step - loss: 0.0721 - accuracy: 0.9802 - val_loss: 0.5167 - val_accuracy: 0.8000\n",
      "Epoch 65/100\n",
      "1/1 [==============================] - 2s 2s/step - loss: 0.0557 - accuracy: 0.9950 - val_loss: 0.4930 - val_accuracy: 0.8000\n",
      "Epoch 66/100\n",
      "1/1 [==============================] - 3s 3s/step - loss: 0.0702 - accuracy: 0.9604 - val_loss: 0.5109 - val_accuracy: 0.8167\n",
      "Epoch 67/100\n",
      "1/1 [==============================] - 3s 3s/step - loss: 0.0600 - accuracy: 0.9851 - val_loss: 0.5434 - val_accuracy: 0.8167\n",
      "Epoch 68/100\n",
      "1/1 [==============================] - 2s 2s/step - loss: 0.0426 - accuracy: 0.9901 - val_loss: 0.5480 - val_accuracy: 0.8167\n",
      "Epoch 69/100\n",
      "1/1 [==============================] - 3s 3s/step - loss: 0.0469 - accuracy: 0.9901 - val_loss: 0.4885 - val_accuracy: 0.8500\n",
      "Epoch 70/100\n",
      "1/1 [==============================] - 2s 2s/step - loss: 0.0317 - accuracy: 0.9901 - val_loss: 0.5096 - val_accuracy: 0.8333\n",
      "Epoch 71/100\n",
      "1/1 [==============================] - 2s 2s/step - loss: 0.0261 - accuracy: 1.0000 - val_loss: 0.4861 - val_accuracy: 0.8500\n",
      "Epoch 72/100\n",
      "1/1 [==============================] - 3s 3s/step - loss: 0.0205 - accuracy: 1.0000 - val_loss: 0.4969 - val_accuracy: 0.8167\n",
      "Epoch 73/100\n",
      "1/1 [==============================] - 3s 3s/step - loss: 0.0280 - accuracy: 0.9901 - val_loss: 0.6143 - val_accuracy: 0.8167\n",
      "Epoch 74/100\n",
      "1/1 [==============================] - 3s 3s/step - loss: 0.0203 - accuracy: 1.0000 - val_loss: 0.6241 - val_accuracy: 0.8333\n",
      "Epoch 75/100\n",
      "1/1 [==============================] - 3s 3s/step - loss: 0.0179 - accuracy: 1.0000 - val_loss: 0.5445 - val_accuracy: 0.8333\n",
      "Epoch 76/100\n",
      "1/1 [==============================] - 3s 3s/step - loss: 0.0181 - accuracy: 1.0000 - val_loss: 0.5526 - val_accuracy: 0.8333\n",
      "Epoch 77/100\n",
      "1/1 [==============================] - 3s 3s/step - loss: 0.0155 - accuracy: 1.0000 - val_loss: 0.5709 - val_accuracy: 0.8333\n",
      "Epoch 78/100\n",
      "1/1 [==============================] - 2s 2s/step - loss: 0.0097 - accuracy: 1.0000 - val_loss: 0.6836 - val_accuracy: 0.8333\n",
      "Epoch 79/100\n",
      "1/1 [==============================] - 3s 3s/step - loss: 0.0122 - accuracy: 1.0000 - val_loss: 0.7104 - val_accuracy: 0.8333\n",
      "Epoch 80/100\n",
      "1/1 [==============================] - 3s 3s/step - loss: 0.0104 - accuracy: 1.0000 - val_loss: 0.6005 - val_accuracy: 0.8333\n",
      "Epoch 81/100\n",
      "1/1 [==============================] - 2s 2s/step - loss: 0.0105 - accuracy: 1.0000 - val_loss: 0.5079 - val_accuracy: 0.8500\n",
      "Epoch 82/100\n",
      "1/1 [==============================] - 3s 3s/step - loss: 0.0159 - accuracy: 0.9950 - val_loss: 0.5480 - val_accuracy: 0.8333\n",
      "Epoch 83/100\n",
      "1/1 [==============================] - 3s 3s/step - loss: 0.0102 - accuracy: 1.0000 - val_loss: 0.7333 - val_accuracy: 0.8333\n",
      "Epoch 84/100\n",
      "1/1 [==============================] - 3s 3s/step - loss: 0.0112 - accuracy: 0.9950 - val_loss: 0.8050 - val_accuracy: 0.8167\n",
      "Epoch 85/100\n",
      "1/1 [==============================] - 3s 3s/step - loss: 0.0171 - accuracy: 0.9901 - val_loss: 0.6101 - val_accuracy: 0.8333\n",
      "Epoch 86/100\n",
      "1/1 [==============================] - 2s 2s/step - loss: 0.0038 - accuracy: 1.0000 - val_loss: 0.5179 - val_accuracy: 0.8667\n",
      "Epoch 87/100\n",
      "1/1 [==============================] - 3s 3s/step - loss: 0.0196 - accuracy: 0.9950 - val_loss: 0.5895 - val_accuracy: 0.8500\n",
      "Epoch 88/100\n",
      "1/1 [==============================] - 3s 3s/step - loss: 0.0057 - accuracy: 1.0000 - val_loss: 0.7089 - val_accuracy: 0.8333\n",
      "Epoch 89/100\n",
      "1/1 [==============================] - 3s 3s/step - loss: 0.0051 - accuracy: 1.0000 - val_loss: 0.8067 - val_accuracy: 0.8333\n",
      "Epoch 90/100\n",
      "1/1 [==============================] - 3s 3s/step - loss: 0.0057 - accuracy: 1.0000 - val_loss: 0.8038 - val_accuracy: 0.8333\n",
      "Epoch 91/100\n",
      "1/1 [==============================] - 3s 3s/step - loss: 0.0054 - accuracy: 1.0000 - val_loss: 0.7659 - val_accuracy: 0.8167\n",
      "Epoch 92/100\n",
      "1/1 [==============================] - 2s 2s/step - loss: 0.0042 - accuracy: 1.0000 - val_loss: 0.7015 - val_accuracy: 0.8500\n",
      "Epoch 93/100\n",
      "1/1 [==============================] - 2s 2s/step - loss: 0.0031 - accuracy: 1.0000 - val_loss: 0.6832 - val_accuracy: 0.8500\n",
      "Epoch 94/100\n",
      "1/1 [==============================] - 3s 3s/step - loss: 0.0208 - accuracy: 0.9950 - val_loss: 0.6314 - val_accuracy: 0.8667\n",
      "Epoch 95/100\n",
      "1/1 [==============================] - 2s 2s/step - loss: 0.0164 - accuracy: 0.9950 - val_loss: 0.6681 - val_accuracy: 0.8500\n",
      "Epoch 96/100\n",
      "1/1 [==============================] - 2s 2s/step - loss: 0.0048 - accuracy: 1.0000 - val_loss: 0.8250 - val_accuracy: 0.8167\n",
      "Epoch 97/100\n",
      "1/1 [==============================] - 2s 2s/step - loss: 0.0013 - accuracy: 1.0000 - val_loss: 1.0286 - val_accuracy: 0.8500\n",
      "Epoch 98/100\n",
      "1/1 [==============================] - 3s 3s/step - loss: 0.0101 - accuracy: 1.0000 - val_loss: 1.1128 - val_accuracy: 0.8000\n",
      "Epoch 99/100\n",
      "1/1 [==============================] - 2s 2s/step - loss: 0.0071 - accuracy: 1.0000 - val_loss: 0.9339 - val_accuracy: 0.8167\n",
      "Epoch 100/100\n",
      "1/1 [==============================] - 2s 2s/step - loss: 0.0114 - accuracy: 0.9950 - val_loss: 0.6042 - val_accuracy: 0.8333\n"
     ]
    }
   ],
   "source": [
    "EPOCHS = 100\n",
    "history = model.fit(\n",
    "    train_data_gen,\n",
    "    steps_per_epoch=int(np.ceil(total_train / float(total_train))),\n",
    "    epochs=EPOCHS,\n",
    "    validation_data=validation_data_gen,\n",
    "    validation_steps=int(np.ceil(total_validation / float(total_validation)))\n",
    ")"
   ]
  },
  {
   "cell_type": "code",
   "execution_count": 8,
   "metadata": {},
   "outputs": [
    {
     "name": "stdout",
     "output_type": "stream",
     "text": [
      "Точность на обучении:  0.9950495\n",
      "Точность на валидации:  0.8333333\n",
      "Потери на обучении:  0.011361822485923767\n",
      "Потери на валидации:  0.6042478084564209\n"
     ]
    }
   ],
   "source": [
    "acc = history.history['accuracy']\n",
    "val_acc = history.history['val_accuracy']\n",
    "loss = history.history['loss']\n",
    "val_loss = history.history['val_loss']\n",
    "\n",
    "print('Точность на обучении: ', acc[-1])\n",
    "print('Точность на валидации: ', val_acc[-1])\n",
    "print('Потери на обучении: ', loss[-1])\n",
    "print('Потери на валидации: ', val_loss[-1])"
   ]
  },
  {
   "cell_type": "code",
   "execution_count": null,
   "metadata": {},
   "outputs": [],
   "source": []
  }
 ],
 "metadata": {
  "kernelspec": {
   "display_name": "Python 3",
   "language": "python",
   "name": "python3"
  },
  "language_info": {
   "codemirror_mode": {
    "name": "ipython",
    "version": 3
   },
   "file_extension": ".py",
   "mimetype": "text/x-python",
   "name": "python",
   "nbconvert_exporter": "python",
   "pygments_lexer": "ipython3",
   "version": "3.6.9"
  }
 },
 "nbformat": 4,
 "nbformat_minor": 4
}
