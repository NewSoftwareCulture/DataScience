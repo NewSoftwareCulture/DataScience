{
 "cells": [
  {
   "cell_type": "code",
   "execution_count": 76,
   "metadata": {
    "scrolled": false
   },
   "outputs": [
    {
     "name": "stdout",
     "output_type": "stream",
     "text": [
      "Found 60 images belonging to 2 classes.\n",
      "Found 60 images belonging to 2 classes.\n",
      "Found 60 images belonging to 2 classes.\n",
      "Found 60 images belonging to 2 classes.\n",
      "Found 60 images belonging to 2 classes.\n"
     ]
    },
    {
     "name": "stderr",
     "output_type": "stream",
     "text": [
      "/home/vladislav/1cloud/1cloud/lib/python3.6/site-packages/PIL/TiffImagePlugin.py:788: UserWarning: Corrupt EXIF data.  Expecting to read 2 bytes but only got 0. \n",
      "  warnings.warn(str(msg))\n"
     ]
    },
    {
     "name": "stdout",
     "output_type": "stream",
     "text": [
      "300\n",
      "300\n"
     ]
    }
   ],
   "source": [
    "import tensorflow.keras as keras\n",
    "from keras.preprocessing.image import ImageDataGenerator\n",
    "from keras.models import Sequential\n",
    "import pandas as pd\n",
    "import cv2\n",
    "import numpy as np\n",
    "from matplotlib import pyplot as plt\n",
    "from sklearn.metrics import confusion_matrix\n",
    "import itertools\n",
    "from keras.layers import Dense, Dropout, Activation, Flatten, Input\n",
    "from keras.layers import Conv2D, MaxPooling2D, AveragePooling2D\n",
    "from keras.layers import BatchNormalization\n",
    "from keras.regularizers import l2\n",
    "from keras.models import Model\n",
    "from keras.optimizers import Adam\n",
    "from keras.callbacks import LearningRateScheduler\n",
    "from keras import backend as K\n",
    "import os\n",
    "from sklearn.metrics import classification_report, accuracy_score, recall_score, precision_score, f1_score\n",
    "\n",
    "\n",
    "base_dir = 'Datasets'\n",
    "train_dir = 'Datasets/train'\n",
    "test_dir = 'Datasets/test'\n",
    "train_pumba_dir = 'Datasets/train/pumba'\n",
    "train_surik_dir = 'Datasets/train/surik'\n",
    "test_pumba_dir = 'Datasets/test/pumba'\n",
    "test_surik_dir = 'Datasets/test/surik'\n",
    "\n",
    "pumba_tr = len(os.listdir(train_pumba_dir))\n",
    "surik_tr = len(os.listdir(train_surik_dir))\n",
    "pumba_test = len(os.listdir(test_pumba_dir))\n",
    "surik_test = len(os.listdir(test_surik_dir))\n",
    "total_test = pumba_test + surik_test\n",
    "total_train = pumba_tr + surik_tr\n",
    "\n",
    "num_classes = 2\n",
    "IMG_SHAPE = 80 # размерность 80x80\n",
    "        \n",
    "model = keras.models.load_model('BinaryClassifier_model_87.h5', compile=False)\n",
    "\n",
    "image_generator_1 = ImageDataGenerator(featurewise_center=False,  # set input mean to 0 over the dataset\n",
    "    samplewise_center=False,  # set each sample mean to 0\n",
    "    featurewise_std_normalization=False,  # divide inputs by std of the dataset\n",
    "    samplewise_std_normalization=False,  # divide each input by its std\n",
    "    zca_whitening=False,  # apply ZCA whitening\n",
    "    rotation_range=5,  # randomly rotate images in the range (degrees, 0 to 180)\n",
    "    width_shift_range=0.1,  # randomly shift images horizontally (fraction of total width)\n",
    "    height_shift_range=0.1,  # randomly shift images vertically (fraction of total height)\n",
    "    horizontal_flip=False,  # randomly flip images\n",
    "    vertical_flip=False)  # randomly flip images)\n",
    "image_generator_2 = ImageDataGenerator(rotation_range=45, vertical_flip=True)\n",
    "image_generator_3 = ImageDataGenerator(rotation_range=30)\n",
    "image_generator_4 = ImageDataGenerator(horizontal_flip=True)\n",
    "image_generator_5 = ImageDataGenerator()\n",
    "\n",
    "# batch_size = len(x_test)\n",
    "\n",
    "test_data_gen_1 = image_generator_1.flow_from_directory(batch_size=total_test,\n",
    "                                                          directory=test_dir,\n",
    "                                                          shuffle=True,\n",
    "                                                          target_size=(IMG_SHAPE,IMG_SHAPE),\n",
    "                                                          class_mode=\"binary\")\n",
    "test_data_gen_2 = image_generator_2.flow_from_directory(batch_size=total_test,\n",
    "                                                          directory=test_dir,\n",
    "                                                          shuffle=True,\n",
    "                                                          target_size=(IMG_SHAPE,IMG_SHAPE),\n",
    "                                                          class_mode=\"binary\")\n",
    "test_data_gen_3 = image_generator_3.flow_from_directory(batch_size=total_test,\n",
    "                                                          directory=test_dir,\n",
    "                                                          shuffle=True,\n",
    "                                                         target_size=(IMG_SHAPE,IMG_SHAPE),\n",
    "                                                          class_mode=\"binary\")\n",
    "test_data_gen_4 = image_generator_4.flow_from_directory(batch_size=total_test,\n",
    "                                                          directory=test_dir,\n",
    "                                                          shuffle=True,\n",
    "                                                          target_size=(IMG_SHAPE,IMG_SHAPE),\n",
    "                                                          class_mode=\"binary\")\n",
    "\n",
    "test_data_gen_5 = image_generator_5.flow_from_directory(batch_size=total_test,\n",
    "                                                          directory=test_dir,\n",
    "                                                          shuffle=True,\n",
    "                                                          target_size=(IMG_SHAPE,IMG_SHAPE),\n",
    "                                                          class_mode=\"binary\")\n",
    "\n",
    "test_images_1, test_labels_1 = next(test_data_gen_1)\n",
    "test_images_2, test_labels_2 = next(test_data_gen_2)\n",
    "test_images_3, test_labels_3 = next(test_data_gen_3)\n",
    "test_images_4, test_labels_4 = next(test_data_gen_4)\n",
    "test_images_5, test_labels_5 = next(test_data_gen_5)\n",
    "\n",
    "test_images = np.concatenate((test_images_1, test_images_2))\n",
    "test_images = np.concatenate((test_images, test_images_3))\n",
    "test_images = np.concatenate((test_images, test_images_4))\n",
    "test_images = np.concatenate((test_images, test_images_5))\n",
    "\n",
    "test_labels = np.concatenate((test_labels_1, test_labels_2))\n",
    "test_labels = np.concatenate((test_labels, test_labels_3))\n",
    "test_labels = np.concatenate((test_labels, test_labels_4))\n",
    "test_labels = np.concatenate((test_labels, test_labels_5))\n",
    "\n",
    "print(len(test_images))\n",
    "print(len(test_labels))"
   ]
  },
  {
   "cell_type": "code",
   "execution_count": 77,
   "metadata": {},
   "outputs": [],
   "source": [
    "predicted = model.predict(test_images)"
   ]
  },
  {
   "cell_type": "code",
   "execution_count": 78,
   "metadata": {},
   "outputs": [],
   "source": [
    "for i in range(len(predicted)):\n",
    "    predicted[i] = np.around(predicted[i])\n",
    "predicted_ = []\n",
    "for i in predicted:\n",
    "    predicted_.append(i[1])\n",
    "    \n",
    "predicted = predicted_"
   ]
  },
  {
   "cell_type": "code",
   "execution_count": 80,
   "metadata": {},
   "outputs": [
    {
     "name": "stdout",
     "output_type": "stream",
     "text": [
      "Accuracy:\t 0.82\n",
      "Recall:\t\t 0.7 \t\t 0.94\n",
      "Precision:\t 0.92105 \t 0.75806\n",
      "F1:\t\t 0.79545 \t 0.83929\n"
     ]
    },
    {
     "data": {
      "image/png": "[encoded data removed]",
      "text/plain": [
       "<Figure size 432x432 with 2 Axes>"
      ]
     },
     "metadata": {
      "needs_background": "light"
     },
     "output_type": "display_data"
    }
   ],
   "source": [
    "def plot_confusion_matrix(cm, classes, normalize=False, \n",
    "                          title='Confusion matrix', cmap=plt.cm.Blues):\n",
    "    if normalize:\n",
    "        cm = cm.astype('float') / cm.sum(axis=1)[:, np.newaxis]\n",
    "    plt.imshow(cm, interpolation='nearest', cmap=cmap)\n",
    "    plt.title(title)\n",
    "    plt.colorbar()\n",
    "    tick_marks = np.arange(len(classes))\n",
    "    plt.xticks(tick_marks, classes, rotation=45)\n",
    "    plt.yticks(tick_marks, classes)\n",
    "\n",
    "    fmt = '.2f' if normalize else 'd'\n",
    "    thresh = cm.max() / 2.\n",
    "    for i, j in itertools.product(range(cm.shape[0]), range(cm.shape[1])):\n",
    "        plt.text(j, i, format(cm[i, j], fmt),\n",
    "                 horizontalalignment=\"center\",\n",
    "                 color=\"white\" if cm[i, j] > thresh else \"black\")\n",
    "\n",
    "    plt.tight_layout()\n",
    "    plt.ylabel('True label')\n",
    "    plt.xlabel('Predicted label')\n",
    "\n",
    "    \n",
    "recall = recall_score(test_labels, predicted, average=None)\n",
    "precision = precision_score(test_labels, predicted, average=None)\n",
    "accuracy = accuracy_score(test_labels, predicted)\n",
    "f1 = f1_score(test_labels, predicted,  average=None)\n",
    "\n",
    "\n",
    "print(\"Accuracy:\\t\", round(accuracy, 5))\n",
    "print(\"Recall:\\t\\t\", round(recall[0] ,5 ), '\\t\\t', round(recall[1] ,5 ))\n",
    "print(\"Precision:\\t\", round(precision[0] ,5 ), '\\t', round(precision[1] ,5 ))\n",
    "print(\"F1:\\t\\t\", round(f1[0] ,5 ), '\\t', round(f1[1] ,5 ))    \n",
    "    \n",
    "fig = plt.gcf()\n",
    "fig.set_size_inches(6, 6)\n",
    "cnf_matrix = confusion_matrix(test_labels, predicted)\n",
    "plot_confusion_matrix(cnf_matrix, [f'C{i+1}' for i in range(num_classes)], \n",
    "                      title='Confusion matrix', normalize=False)\n"
   ]
  },
  {
   "cell_type": "code",
   "execution_count": null,
   "metadata": {},
   "outputs": [],
   "source": []
  }
 ],
 "metadata": {
  "kernelspec": {
   "display_name": "Python 3",
   "language": "python",
   "name": "python3"
  },
  "language_info": {
   "codemirror_mode": {
    "name": "ipython",
    "version": 3
   },
   "file_extension": ".py",
   "mimetype": "text/x-python",
   "name": "python",
   "nbconvert_exporter": "python",
   "pygments_lexer": "ipython3",
   "version": "3.6.9"
  }
 },
 "nbformat": 4,
 "nbformat_minor": 4
}
